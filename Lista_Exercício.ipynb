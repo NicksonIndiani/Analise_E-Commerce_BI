{
  "nbformat": 4,
  "nbformat_minor": 0,
  "metadata": {
    "colab": {
      "provenance": [],
      "authorship_tag": "ABX9TyOYGKv934nh30oXybjfzDLs",
      "include_colab_link": true
    },
    "kernelspec": {
      "name": "python3",
      "display_name": "Python 3"
    },
    "language_info": {
      "name": "python"
    }
  },
  "cells": [
    {
      "cell_type": "markdown",
      "metadata": {
        "id": "view-in-github",
        "colab_type": "text"
      },
      "source": [
        "<a href=\"https://colab.research.google.com/github/NicksonIndiani/Analise_E-Commerce_BI/blob/main/Lista_Exerc%C3%ADcio.ipynb\" target=\"_parent\"><img src=\"https://colab.research.google.com/assets/colab-badge.svg\" alt=\"Open In Colab\"/></a>"
      ]
    },
    {
      "cell_type": "markdown",
      "source": [
        "## Exercício nº 01\n",
        "Seu primeiro desafio é desenvolver um programa para um depósito de\n",
        "bebidas que valide venda de bebidas para maiores de idade (maior ou\n",
        "igual 18 anos) no mercado, o programa deve receber do usuário os\n",
        "valores do nome e ano que ele nasceu e retornar se ele pode comprar\n",
        "bebidas.\n"
      ],
      "metadata": {
        "id": "LnoSHPq6ro46"
      }
    },
    {
      "cell_type": "code",
      "source": [
        "nome = input(\"Qual é o seu nome? \")\n",
        "ano_nascimento = int(input(\"Qual é o seu ano de nascimento? \"))\n",
        "idade = 2024 - ano_nascimento\n",
        "\n",
        "if idade >= 18:\n",
        "  print(f\"{nome}, você pode comprar bebidas.\")\n",
        "else:\n",
        "  print(f\"{nome}, você não pode comprar bebidas.\")\n"
      ],
      "metadata": {
        "id": "3icruQ8Yr0JY"
      },
      "execution_count": null,
      "outputs": []
    },
    {
      "cell_type": "markdown",
      "source": [
        "## Exercício nº 02\n",
        "Esse bimestre na faculdade você precisa tirar nota 8 de média para\n",
        "passar na matéria, desenvolva um script que leia a nota de suas\n",
        "últimas 3 provas, tire a média delas e verifique se você passou.\n",
        "\n"
      ],
      "metadata": {
        "id": "e5QVlfVGsPUb"
      }
    },
    {
      "cell_type": "code",
      "source": [
        "nota1 = float(input(\"Nota da primeira prova: \"))\n",
        "nota2 = float(input(\"Nota da segunda prova: \"))\n",
        "nota3 = float(input(\"Nota da terceira prova: \"))\n",
        "\n",
        "media = (nota1 + nota2 + nota3) / 3\n",
        "\n",
        "if media >= 8:\n",
        "  print(\"Parabéns, você passou na matéria!\")\n",
        "else:\n",
        "  print(\"Infelizmente, você não passou na matéria.\")"
      ],
      "metadata": {
        "id": "9bwjji2Ysaaf"
      },
      "execution_count": null,
      "outputs": []
    },
    {
      "cell_type": "markdown",
      "source": [
        "## Exercício nº 03\n",
        "A fisioterapeuta que você vai gosta muito de brincar com números, e\n",
        "pediu para você criar um sistema que verifique se a altura inserida é\n",
        "par ou impar\n",
        "\n",
        "\n"
      ],
      "metadata": {
        "id": "Wq3wrlIRsmjv"
      }
    },
    {
      "cell_type": "code",
      "source": [
        "altura = float(input(\"Qual é a sua altura em metros? \"))\n",
        "\n",
        "if altura % 2 == 0:\n",
        "  print(\"Sua altura é par.\")\n",
        "else:\n",
        "  print(\"Sua altura é ímpar.\")\n"
      ],
      "metadata": {
        "id": "2myh3Rn8snsP"
      },
      "execution_count": null,
      "outputs": []
    },
    {
      "cell_type": "markdown",
      "source": [
        "## Exercício nº 04\n",
        "Faça um script que você coloque a quantidade de dias e descubra em\n",
        "qual trimestre esse dia está no ano.\n",
        "\n",
        "\n"
      ],
      "metadata": {
        "id": "45BJ9_0RsoJH"
      }
    },
    {
      "cell_type": "code",
      "source": [
        "dias = int(input(\"Quantos dias se passaram no ano? \"))\n",
        "\n",
        "if dias <= 90:\n",
        "  print(\"Primeiro trimestre.\")\n",
        "elif dias <= 180:\n",
        "  print(\"Segundo trimestre.\")\n",
        "elif dias <= 270:\n",
        "  print(\"Terceiro trimestre.\")\n",
        "else:\n",
        "  print(\"Quarto trimestre.\")\n"
      ],
      "metadata": {
        "id": "E92hFgenspLP"
      },
      "execution_count": null,
      "outputs": []
    },
    {
      "cell_type": "markdown",
      "source": [
        "## Exercício nº 05\n",
        "Desenvolva um sistema que leia 3 números e diga qual é o maior (se\n",
        "houver empate, exiba os empatados).\n",
        "\n",
        "\n"
      ],
      "metadata": {
        "id": "pnWUPfJKspuf"
      }
    },
    {
      "cell_type": "code",
      "source": [
        "num1 = float(input(\"Digite o primeiro número: \"))\n",
        "num2 = float(input(\"Digite o segundo número: \"))\n",
        "num3 = float(input(\"Digite o terceiro número: \"))\n",
        "\n",
        "if num1 == num2 and num1 == num3:\n",
        "  print(\"Os três números são iguais.\")\n",
        "elif num1 >= num2 and num1 >= num3:\n",
        "  print(f\"O maior número é {num1}.\")\n",
        "elif num2 >= num1 and num2 >= num3:\n",
        "  print(f\"O maior número é {num2}.\")\n",
        "else:\n",
        "  print(f\"O maior número é {num3}.\")"
      ],
      "metadata": {
        "id": "WVnSVRuFtMhx"
      },
      "execution_count": null,
      "outputs": []
    },
    {
      "cell_type": "markdown",
      "source": [
        "## Exercício nº 06\n",
        "Imagina-se que você é um dos programadores responsáveis pela construção de app de vendas para uma determinada empresa X que vende em atacado. Uma das estratégias de vendas dessa empresa X é dar desconto maiores conforme o valor total da compra conforme a seguinte listagem:\n",
        "\n"
      ],
      "metadata": {
        "id": "sEIDjG2UthUx"
      }
    },
    {
      "cell_type": "code",
      "source": [
        "print(\"Olá, meu nome é [seu nome] e estou aqui para ajudá-lo com sua compra.\")\n",
        "\n",
        "valor_unitario = float(input(\"Digite o valor unitário do produto: \"))\n",
        "quantidade = int(input(\"Digite a quantidade do produto: \"))\n",
        "\n",
        "\n",
        "valor_total_sem_desconto = valor_unitario * quantidade\n",
        "\n",
        "if valor_total_sem_desconto < 2500:\n",
        "  desconto = 0\n",
        "elif valor_total_sem_desconto >= 2500 and valor_total_sem_desconto < 6000:\n",
        "  desconto = 4\n",
        "elif valor_total_sem_desconto >= 6000 and valor_total_sem_desconto < 10000:\n",
        "  desconto = 7\n",
        "else:\n",
        "  desconto = 11\n",
        "\n",
        "valor_total_com_desconto = valor_total_sem_desconto - (valor_total_sem_desconto * desconto / 100)\n",
        "\n",
        "print(f\"Valor total sem desconto: R$ {valor_total_sem_desconto:.2f}\")\n",
        "print(f\"Valor total com desconto: R$ {valor_total_com_desconto:.2f}\")\n"
      ],
      "metadata": {
        "id": "4-prEFmitqQ8"
      },
      "execution_count": null,
      "outputs": []
    },
    {
      "cell_type": "markdown",
      "source": [
        "## Exercício nº 06\n",
        "Enunciado: Você e sua equipe de programadores foram contratados para desenvolver um app de vendas para uma loja que vende Açaí e Cupuaçu. Você ficou com a parte de desenvolver a interface do cliente para retirada do produto.\n",
        "A Loja possui seguinte relação:\n"
      ],
      "metadata": {
        "id": "7EOfXNL1vHRI"
      }
    },
    {
      "cell_type": "code",
      "source": [
        "def main():\n",
        "    nome = input(\"Digite seu nome: \")\n",
        "    print(f\"Olá, {nome}! Bem-vindo ao nosso app de vendas.\")\n",
        "\n",
        "    precos = {\"CP\": {\"P\": 9.00, \"M\": 14.00, \"G\": 18.00},\n",
        "              \"AC\": {\"P\": 11.00, \"M\": 16.00, \"G\": 20.00}}\n",
        "\n",
        "    total = 0.0\n",
        "\n",
        "    while True:\n",
        "        sabor = input(\"Escolha o sabor (CP para Cupuaçu, AC para Açaí): \").upper()\n",
        "        if sabor not in [\"CP\", \"AC\"]:\n",
        "            print(\"Sabor inválido. Tente novamente.\")\n",
        "            continue\n",
        "\n",
        "        tamanho = input(\"Escolha o tamanho (P/M/G): \").upper()\n",
        "        if tamanho not in [\"P\", \"M\", \"G\"]:\n",
        "            print(\"Tamanho inválido. Tente novamente.\")\n",
        "            continue\n",
        "\n",
        "        valor = precos[sabor].get(tamanho, 0)\n",
        "        if valor == 0:\n",
        "            print(\"Combinação inválida de sabor e tamanho. Tente novamente.\")\n",
        "            continue\n",
        "\n",
        "        total += valor\n",
        "\n",
        "        mais_pedidos = input(\"Deseja pedir mais alguma coisa? (S/N): \").upper()\n",
        "        if mais_pedidos != \"S\":\n",
        "            break\n",
        "\n",
        "    print(f\"Total a pagar: R${total:.2f}\")\n",
        "\n",
        "if __name__ == \"__main__\":\n",
        "    try:\n",
        "        main()\n",
        "    except KeyboardInterrupt:\n",
        "        print(\"\\nOperação interrompida pelo usuário.\")\n",
        "    except Exception as e:\n",
        "        print(f\"Erro: {e}\")\n"
      ],
      "metadata": {
        "id": "m4gxYpK0vK7z"
      },
      "execution_count": null,
      "outputs": []
    },
    {
      "cell_type": "markdown",
      "source": [
        "## Exercício nº 07\n",
        "Você foi contratado para desenvolver um sistema de cobrança de serviços de uma copiadora. Você ficou com a parte de desenvolver a interface com o funcionário.\n",
        "A copiadora opera da seguinte maneira:\n",
        "•\tServiço de Digitalização (DIG) o custo por página é de um real e dez centavos;\n",
        "•\tServiço de Impressão Colorida (ICO) o custo por página é de um real;\n",
        "•\tServiço de Impressão Preto e Branco (IBO) o custo por página é de quarenta centavos;\n",
        "•\tServiço de Fotocópia (FOT) o custo por página é de vinte centavos;\n",
        "\n",
        "•\tSe número de páginas for menor que 20 retornar o número de página sem desconto;\n",
        "•\tSe número de páginas for igual ou maior que 20 e menor que 200 retornar o número de páginas com o desconto é de 15%;\n",
        "•\tSe número de páginas for igual ou maior que 200 e menor que 2000 retornar o número de páginas com o desconto é de 20%;\n",
        "•\tSe número de páginas for igual ou maior que 2000 e menor que 20000 retornar o número de páginas com o desconto é de 25%;\n",
        "•\tSe número de páginas for maior ou igual à 20000 não é aceito pedidos nessa quantidade de páginas;\n",
        "\n",
        "♦\tPara o adicional de encadernação simples (1) é cobrado um valor extra de 15 reais;\n",
        "♦\tPara o adicional de encadernação de capa dura (2) é cobrado um valor extra de 40 reais;\n",
        "♦\tPara o adicional de não querer mais nada (0) é cobrado um valor extra de 0 reais;\n",
        "\n"
      ],
      "metadata": {
        "id": "WlBWeb_SxWU_"
      }
    },
    {
      "cell_type": "code",
      "source": [
        "\n",
        "def escolha_servico():\n",
        "    while True:\n",
        "        servico = input(\"Escolha o serviço (dig/ico/ibo/fot): \").lower()\n",
        "        if servico in [\"dig\", \"ico\", \"ibo\", \"fot\"]:\n",
        "            return servico\n",
        "        else:\n",
        "            print(\"Opção inválida. Escolha entre dig, ico, ibo ou fot.\")\n",
        "\n",
        "def num_pagina():\n",
        "    while True:\n",
        "        try:\n",
        "            num_paginas = int(input(\"Digite o número de páginas: \"))\n",
        "            if num_paginas < 20:\n",
        "                return num_paginas\n",
        "            elif 20 <= num_paginas < 200:\n",
        "                return num_paginas * 0.85\n",
        "            elif 200 <= num_paginas < 2000:\n",
        "                return num_paginas * 0.80\n",
        "            elif 2000 <= num_paginas < 20000:\n",
        "                return num_paginas * 0.75\n",
        "            else:\n",
        "                print(\"Não aceitamos pedidos com mais de 20000 páginas.\")\n",
        "        except ValueError:\n",
        "            print(\"Digite um valor numérico válido.\")\n",
        "\n",
        "def servico_extra():\n",
        "    while True:\n",
        "        try:\n",
        "            extra = int(input(\"Escolha o serviço adicional (1 - encadernação simples, 2 - capa dura, 0 - nenhum): \"))\n",
        "            if extra in [0, 1, 2]:\n",
        "                return extra\n",
        "            else:\n",
        "                print(\"Opção inválida. Escolha entre 1, 2 ou 0.\")\n",
        "        except ValueError:\n",
        "            print(\"Digite um valor numérico válido.\")\n",
        "\n",
        "def main():\n",
        "    print(\"Bem-vindo ao sistema de cobrança da copiadora!\")\n",
        "    nome = input(\"Digite seu nome: \")\n",
        "    print(f\"Olá, {nome}!\")\n",
        "\n",
        "    servico = escolha_servico()\n",
        "    num_paginas = num_pagina()\n",
        "    extra = servico_extra()\n",
        "\n",
        "    precos = {\"dig\": 1.10, \"ico\": 1.00, \"ibo\": 0.40, \"fot\": 0.20}\n",
        "    valor_servico = precos.get(servico, 0)\n",
        "\n",
        "    adicionais = {1: 15, 2: 40, 0: 0}\n",
        "    valor_extra = adicionais.get(extra, 0)\n",
        "\n",
        "    total = valor_servico * num_paginas + valor_extra\n",
        "\n",
        "    print(f\"Total a pagar: R${total:.2f}\")\n",
        "\n",
        "if __name__ == \"__main__\":\n",
        "    try:\n",
        "        main()\n",
        "    except KeyboardInterrupt:\n",
        "        print(\"\\nOperação interrompida pelo usuário.\")\n",
        "    except Exception as e:\n",
        "        print(f\"Erro: {e}\")\n"
      ],
      "metadata": {
        "id": "6U91jLS-wpPH"
      },
      "execution_count": null,
      "outputs": []
    },
    {
      "cell_type": "markdown",
      "source": [
        "## Exercício nº 08\n",
        "Enunciado: Você e sua equipe de programadores foram contratados por pequena empresa para desenvolver o software de gerenciamento de pessoas. Este software deve ter o seguinte menu e opções:\n",
        "\n",
        "1)\tCadastrar Livro\n",
        "2)\tConsultar Livro\n",
        "1.\tConsultar Todos\n",
        "2.\tConsultar por Id\n",
        "3.\tConsultar por Autor\n",
        "4.\tRetornar ao menu\n",
        "3)\tRemover Livro\n",
        "4)\tEncerrar Programa\n",
        "\n",
        "Elabore um programa em Python que:\n",
        "\n",
        "A.\tDeve-se implementar o print com uma mensagem de boas-vindas que apareça o seu nome [EXIGÊNCIA DE CÓDIGO 1 de 8];\n",
        "B.\tDeve-se implementar uma lista vazia com o nome de lista_livro e a variável id_global com valor inicial igual a 0 [EXIGÊNCIA DE CÓDIGO 2 de 8];\n",
        "C.\tDeve-se implementar uma função chamada cadastrar_livro(id) em que: [EXIGÊNCIA DE CÓDIGO 3 de 8];\n",
        "a.\tPergunta nome, autor, editora do livro;\n",
        "b.\tArmazena o id (este é fornecido via parâmetro da função), nome, autor, editora dentro de um dicionário;\n",
        "c.\tCopiar o dicionário para dentro da lista_livro;\n",
        "D.\tDeve-se implementar uma função chamada consultar_livro() em que: [EXIGÊNCIA DE CÓDIGO 4 de 8];\n",
        "a.\tDeve-se perguntar qual opção deseja (1. Consultar Todos / 2. Consultar por Id / 3. Consultar por Autor / 4. Retornar ao menu) e   printar a “Opção inválida\" se entrar com valor diferente de 1, 2, 3 ou 4 :\n",
        "i.\tSe Consultar Todos, apresentar todos os livros com todos os seus dados cadastrados;\n",
        "ii.\tSe Consultar por Id, apresentar o livro específico com todos os seus dados cadastrados;\n",
        "iii.\tSe Consultar por Autor, apresentar o(s) livro(s) do autor com todos os seus dados cadastrados;\n",
        "iv.\tSe Retornar ao menu, deve-se retornar ao menu principal;\n",
        "E.\tDeve-se implementar uma função chamada remover_livro() em que: [EXIGÊNCIA DE CÓDIGO 5 de 8];\n",
        "a.\tDeve-se pergunta pelo id do colaborador a ser removido;\n",
        "b.\tRemover o livro da lista_livro;\n",
        "F.\tDeve-se implementar uma estrutura de menu no main em que: [EXIGÊNCIA DE CÓDIGO 6 de 8];\n",
        "a.\tDeve-se pergunta qual opção deseja (1. Cadastrar Livro / 2. Consultar Livro / 3. Remover Livro / 4. Encerrar Programa)e executar o printar de “Opção inválida\" se entrar com valor diferente de 1, 2, 3 ou 4 :\n",
        "i.\tSe Cadastrar Livro, acrescentar em um id_ global e chamar a função cadastrar_livro(id_ global);\n",
        "ii.\tSe Consultar Livro, chamar função consultar_livro();\n",
        "iii.\tSe Remover Livro, chamar função remover_livro();\n",
        "iv.\tSe Encerrar Programa, sair do menu (e com isso acabar a execução do código);\n",
        "G.\tDeve-se implementar uma lista de dicionários (uma lista contento dicionários dentro) [EXIGÊNCIA DE CÓDIGO 7 de 8];\n",
        "H.\tDeve-se inserir comentários relevantes no código [EXIGÊNCIA DE CÓDIGO 8 de 8];\n",
        "I.\tDeve-se apresentar na saída de console uma mensagem de boas-vindas com o seu nome [EXIGÊNCIA DE SAÍDA DE CONSOLE 1 de 6];\n",
        "J.\tDeve-se apresentar na saída de console um cadastro de 3 livros (sendo 2 deles no mesmo autor) [EXIGÊNCIA DE SAÍDA DE CONSOLE 2 de 6];\n",
        "K.\tDeve-se apresentar na saída de console uma consulta de todos os livros [EXIGÊNCIA DE SAÍDA DE CONSOLE 3 de 6];\n",
        "L.\tDeve-se apresentar na saída de console uma consulta por código de um dos livros [EXIGÊNCIA DE SAÍDA DE CONSOLE 4 de 6];\n",
        "M.\tDeve-se apresentar na saída de console uma consulta por setor em que 2 livros sejam do mesmo autor [EXIGÊNCIA DE SAÍDA DE CONSOLE 5 de 6];\n",
        "N.\tDeve-se apresentar na saída de console uma remoção de um dos livros seguida de uma consulta de todos os livros [EXIGÊNCIA DE SAÍDA DE CONSOLE 6 de 6];\n"
      ],
      "metadata": {
        "id": "vq4bguVwz2jH"
      }
    },
    {
      "cell_type": "code",
      "source": [
        "lista_livro = []\n",
        "\n",
        "def cadastrar_livro(id_global):\n",
        "    nome = input(\"Digite o nome do livro: \")\n",
        "    autor = input(\"Digite o autor do livro: \")\n",
        "    editora = input(\"Digite a editora do livro: \")\n",
        "\n",
        "    livro = {\"id\": id_global, \"nome\": nome, \"autor\": autor, \"editora\": editora}\n",
        "    lista_livro.append(livro)\n",
        "\n",
        "def consultar_livro():\n",
        "    while True:\n",
        "        print(\"\\nOpções de consulta:\")\n",
        "        print(\"1. Consultar Todos\")\n",
        "        print(\"2. Consultar por Id\")\n",
        "        print(\"3. Consultar por Autor\")\n",
        "        print(\"4. Retornar ao menu\")\n",
        "\n",
        "        opcao = input(\"Escolha uma opção: \")\n",
        "        if opcao == \"1\":\n",
        "            for livro in lista_livro:\n",
        "                print(f\"Id: {livro['id']}, Nome: {livro['nome']}, Autor: {livro['autor']}, Editora: {livro['editora']}\")\n",
        "        elif opcao == \"2\":\n",
        "            id_consulta = int(input(\"Digite o Id do livro: \"))\n",
        "            for livro in lista_livro:\n",
        "                if livro[\"id\"] == id_consulta:\n",
        "                    print(f\"Nome: {livro['nome']}, Autor: {livro['autor']}, Editora: {livro['editora']}\")\n",
        "                    break\n",
        "            else:\n",
        "                print(\"Livro não encontrado.\")\n",
        "        elif opcao == \"3\":\n",
        "            autor_consulta = input(\"Digite o nome do autor: \")\n",
        "            for livro in lista_livro:\n",
        "                if livro[\"autor\"].lower() == autor_consulta.lower():\n",
        "                    print(f\"Nome: {livro['nome']}, Editora: {livro['editora']}\")\n",
        "        elif opcao == \"4\":\n",
        "            break\n",
        "        else:\n",
        "            print(\"Opção inválida. Tente novamente.\")\n",
        "\n",
        "def remover_livro():\n",
        "    id_remover = int(input(\"Digite o Id do livro a ser removido: \"))\n",
        "    for livro in lista_livro:\n",
        "        if livro[\"id\"] == id_remover:\n",
        "            lista_livro.remove(livro)\n",
        "            print(\"Livro removido com sucesso.\")\n",
        "            break\n",
        "    else:\n",
        "        print(\"Livro não encontrado.\")\n",
        "\n",
        "def main():\n",
        "    print(\"Bem-vindo ao software de gerenciamento de livros!\")\n",
        "    nome = input(\"Digite seu nome: \")\n",
        "    print(f\"Olá, {nome}!\")\n",
        "\n",
        "    lista_livro = []\n",
        "    id_global = 1\n",
        "\n",
        "    while True:\n",
        "        print(\"\\nMenu:\")\n",
        "        print(\"1. Cadastrar Livro\")\n",
        "        print(\"2. Consultar Livro\")\n",
        "        print(\"3. Remover Livro\")\n",
        "        print(\"4. Encerrar Programa\")\n",
        "\n",
        "        opcao_menu = input(\"Escolha uma opção: \")\n",
        "        if opcao_menu == \"1\":\n",
        "            cadastrar_livro(id_global)\n",
        "            id_global += 1\n",
        "        elif opcao_menu == \"2\":\n",
        "            consultar_livro()\n",
        "        elif opcao_menu == \"3\":\n",
        "            remover_livro()\n",
        "        elif opcao_menu == \"4\":\n",
        "            print(\"Encerrando o programa.\")\n",
        "            break\n",
        "        else:\n",
        "            print(\"Opção inválida. Tente novamente.\")\n",
        "\n",
        "if __name__ == \"__main__\":\n",
        "    try:\n",
        "        main()\n",
        "    except KeyboardInterrupt:\n",
        "        print(\"\\nOperação interrompida pelo usuário.\")\n",
        "    except Exception as e:\n",
        "        print(f\"Erro: {e}\")\n"
      ],
      "metadata": {
        "id": "8wubhBjSz_0j"
      },
      "execution_count": null,
      "outputs": []
    }
  ]
}